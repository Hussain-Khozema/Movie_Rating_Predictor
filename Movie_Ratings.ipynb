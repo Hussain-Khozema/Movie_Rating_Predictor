{
 "cells": [
  {
   "cell_type": "markdown",
   "metadata": {},
   "source": [
    "# Importing dataset"
   ]
  },
  {
   "cell_type": "code",
   "execution_count": 1,
   "metadata": {},
   "outputs": [],
   "source": [
    "import glob\n",
    "import pandas as pd"
   ]
  },
  {
   "cell_type": "code",
   "execution_count": 2,
   "metadata": {},
   "outputs": [],
   "source": [
    "def load_data(data_path):\n",
    "    # Import data\n",
    "    text_list = []\n",
    "    rating_list = []\n",
    "    for filename in data_path:\n",
    "        text = open(filename, encoding=\"utf8\").read() #Get the text\n",
    "        filename = filename.strip(r'Movie_ratings/train/pos\\\\train').strip(\".txt\")\n",
    "        rating = filename.split('_')[1] #Get the rating\n",
    "        text_list.append(text)\n",
    "        rating_list.append(rating)\n",
    "    df = pd.DataFrame({\"Rating\":rating_list,\"Review\":text_list})\n",
    "\n",
    "    return df"
   ]
  },
  {
   "cell_type": "code",
   "execution_count": 3,
   "metadata": {},
   "outputs": [],
   "source": [
    "# Define data paths\n",
    "pos_train = glob.glob(\"Movie_ratings/train/pos/*.txt\")\n",
    "neg_train = glob.glob(\"Movie_ratings/train/neg/*.txt\")\n",
    "pos_test = glob.glob(\"Movie_ratings/test/pos/*.txt\")\n",
    "neg_test = glob.glob(\"Movie_ratings/test/neg/*.txt\")\n",
    "\n",
    "pos_train_df = load_data(pos_train)\n",
    "neg_train_df = load_data(neg_train)\n",
    "pos_test_df = load_data(pos_test)\n",
    "neg_testdf = load_data(neg_test)"
   ]
  },
  {
   "cell_type": "code",
   "execution_count": 4,
   "metadata": {},
   "outputs": [
    {
     "data": {
      "text/html": [
       "<div>\n",
       "<style scoped>\n",
       "    .dataframe tbody tr th:only-of-type {\n",
       "        vertical-align: middle;\n",
       "    }\n",
       "\n",
       "    .dataframe tbody tr th {\n",
       "        vertical-align: top;\n",
       "    }\n",
       "\n",
       "    .dataframe thead th {\n",
       "        text-align: right;\n",
       "    }\n",
       "</style>\n",
       "<table border=\"1\" class=\"dataframe\">\n",
       "  <thead>\n",
       "    <tr style=\"text-align: right;\">\n",
       "      <th></th>\n",
       "      <th>Rating</th>\n",
       "      <th>Review</th>\n",
       "    </tr>\n",
       "  </thead>\n",
       "  <tbody>\n",
       "    <tr>\n",
       "      <th>0</th>\n",
       "      <td>3</td>\n",
       "      <td>Story of a man who has unnatural feelings for ...</td>\n",
       "    </tr>\n",
       "    <tr>\n",
       "      <th>1</th>\n",
       "      <td>4</td>\n",
       "      <td>Airport '77 starts as a brand new luxury 747 p...</td>\n",
       "    </tr>\n",
       "    <tr>\n",
       "      <th>2</th>\n",
       "      <td>4</td>\n",
       "      <td>This film lacked something I couldn't put my f...</td>\n",
       "    </tr>\n",
       "    <tr>\n",
       "      <th>3</th>\n",
       "      <td>1</td>\n",
       "      <td>Sorry everyone,,, I know this is supposed to b...</td>\n",
       "    </tr>\n",
       "    <tr>\n",
       "      <th>4</th>\n",
       "      <td>1</td>\n",
       "      <td>When I was little my parents took me along to ...</td>\n",
       "    </tr>\n",
       "  </tbody>\n",
       "</table>\n",
       "</div>"
      ],
      "text/plain": [
       "  Rating                                             Review\n",
       "0      3  Story of a man who has unnatural feelings for ...\n",
       "1      4  Airport '77 starts as a brand new luxury 747 p...\n",
       "2      4  This film lacked something I couldn't put my f...\n",
       "3      1  Sorry everyone,,, I know this is supposed to b...\n",
       "4      1  When I was little my parents took me along to ..."
      ]
     },
     "execution_count": 4,
     "metadata": {},
     "output_type": "execute_result"
    }
   ],
   "source": [
    "neg_train_df.head()"
   ]
  },
  {
   "cell_type": "code",
   "execution_count": 5,
   "metadata": {},
   "outputs": [
    {
     "data": {
      "text/html": [
       "<div>\n",
       "<style scoped>\n",
       "    .dataframe tbody tr th:only-of-type {\n",
       "        vertical-align: middle;\n",
       "    }\n",
       "\n",
       "    .dataframe tbody tr th {\n",
       "        vertical-align: top;\n",
       "    }\n",
       "\n",
       "    .dataframe thead th {\n",
       "        text-align: right;\n",
       "    }\n",
       "</style>\n",
       "<table border=\"1\" class=\"dataframe\">\n",
       "  <thead>\n",
       "    <tr style=\"text-align: right;\">\n",
       "      <th></th>\n",
       "      <th>Rating</th>\n",
       "      <th>Review</th>\n",
       "    </tr>\n",
       "  </thead>\n",
       "  <tbody>\n",
       "    <tr>\n",
       "      <th>0</th>\n",
       "      <td>4</td>\n",
       "      <td>This movie was disappointing. It was incomplet...</td>\n",
       "    </tr>\n",
       "    <tr>\n",
       "      <th>1</th>\n",
       "      <td>10</td>\n",
       "      <td>I was up late flipping cable channels one nigh...</td>\n",
       "    </tr>\n",
       "    <tr>\n",
       "      <th>2</th>\n",
       "      <td>9</td>\n",
       "      <td>For starters, it's a very funny movie with a f...</td>\n",
       "    </tr>\n",
       "    <tr>\n",
       "      <th>3</th>\n",
       "      <td>1</td>\n",
       "      <td>This Film was done in really poor taste. The s...</td>\n",
       "    </tr>\n",
       "    <tr>\n",
       "      <th>4</th>\n",
       "      <td>7</td>\n",
       "      <td>Simon Pegg plays a rude crude and often out of...</td>\n",
       "    </tr>\n",
       "    <tr>\n",
       "      <th>...</th>\n",
       "      <td>...</td>\n",
       "      <td>...</td>\n",
       "    </tr>\n",
       "    <tr>\n",
       "      <th>24995</th>\n",
       "      <td>2</td>\n",
       "      <td>Absolutely putrid slasher film has not one red...</td>\n",
       "    </tr>\n",
       "    <tr>\n",
       "      <th>24996</th>\n",
       "      <td>9</td>\n",
       "      <td>You'll notice by the stars I've given this GRE...</td>\n",
       "    </tr>\n",
       "    <tr>\n",
       "      <th>24997</th>\n",
       "      <td>1</td>\n",
       "      <td>I saw Chan Is Missing when it first came out, ...</td>\n",
       "    </tr>\n",
       "    <tr>\n",
       "      <th>24998</th>\n",
       "      <td>4</td>\n",
       "      <td>This, the direct-to-video death rattle of the ...</td>\n",
       "    </tr>\n",
       "    <tr>\n",
       "      <th>24999</th>\n",
       "      <td>1</td>\n",
       "      <td>I think this piece of garbage is the best proo...</td>\n",
       "    </tr>\n",
       "  </tbody>\n",
       "</table>\n",
       "<p>25000 rows × 2 columns</p>\n",
       "</div>"
      ],
      "text/plain": [
       "      Rating                                             Review\n",
       "0          4  This movie was disappointing. It was incomplet...\n",
       "1         10  I was up late flipping cable channels one nigh...\n",
       "2          9  For starters, it's a very funny movie with a f...\n",
       "3          1  This Film was done in really poor taste. The s...\n",
       "4          7  Simon Pegg plays a rude crude and often out of...\n",
       "...      ...                                                ...\n",
       "24995      2  Absolutely putrid slasher film has not one red...\n",
       "24996      9  You'll notice by the stars I've given this GRE...\n",
       "24997      1  I saw Chan Is Missing when it first came out, ...\n",
       "24998      4  This, the direct-to-video death rattle of the ...\n",
       "24999      1  I think this piece of garbage is the best proo...\n",
       "\n",
       "[25000 rows x 2 columns]"
      ]
     },
     "execution_count": 5,
     "metadata": {},
     "output_type": "execute_result"
    }
   ],
   "source": [
    "# Combining train data\n",
    "train_df = pd.concat([pos_train_df, neg_train_df])\n",
    "\n",
    "# Shuffling the train data\n",
    "train_df = train_df.sample(frac=1).reset_index(drop=True)\n",
    "train_df"
   ]
  },
  {
   "cell_type": "code",
   "execution_count": 6,
   "metadata": {},
   "outputs": [
    {
     "data": {
      "text/html": [
       "<div>\n",
       "<style scoped>\n",
       "    .dataframe tbody tr th:only-of-type {\n",
       "        vertical-align: middle;\n",
       "    }\n",
       "\n",
       "    .dataframe tbody tr th {\n",
       "        vertical-align: top;\n",
       "    }\n",
       "\n",
       "    .dataframe thead th {\n",
       "        text-align: right;\n",
       "    }\n",
       "</style>\n",
       "<table border=\"1\" class=\"dataframe\">\n",
       "  <thead>\n",
       "    <tr style=\"text-align: right;\">\n",
       "      <th></th>\n",
       "      <th>Rating</th>\n",
       "      <th>Review</th>\n",
       "    </tr>\n",
       "  </thead>\n",
       "  <tbody>\n",
       "    <tr>\n",
       "      <th>0</th>\n",
       "      <td>10</td>\n",
       "      <td>The thing with Ali G is that he takes the mick...</td>\n",
       "    </tr>\n",
       "    <tr>\n",
       "      <th>1</th>\n",
       "      <td>1</td>\n",
       "      <td>It was inferred by a previous poster that the ...</td>\n",
       "    </tr>\n",
       "    <tr>\n",
       "      <th>2</th>\n",
       "      <td>4</td>\n",
       "      <td>This is defiantly a DVD rental movie. I'm a bi...</td>\n",
       "    </tr>\n",
       "    <tr>\n",
       "      <th>3</th>\n",
       "      <td>8</td>\n",
       "      <td>This is a beautiful, funny, vivid film. It's e...</td>\n",
       "    </tr>\n",
       "    <tr>\n",
       "      <th>4</th>\n",
       "      <td>3</td>\n",
       "      <td>The first twenty-five minutes stand out as pos...</td>\n",
       "    </tr>\n",
       "    <tr>\n",
       "      <th>...</th>\n",
       "      <td>...</td>\n",
       "      <td>...</td>\n",
       "    </tr>\n",
       "    <tr>\n",
       "      <th>24995</th>\n",
       "      <td>8</td>\n",
       "      <td>Last night, I saw A PECK ON THE CHEEK (KANNATH...</td>\n",
       "    </tr>\n",
       "    <tr>\n",
       "      <th>24996</th>\n",
       "      <td>10</td>\n",
       "      <td>\"Müllers Büro\" is a movie which many will watc...</td>\n",
       "    </tr>\n",
       "    <tr>\n",
       "      <th>24997</th>\n",
       "      <td>2</td>\n",
       "      <td>I've heard people compare this movie to Sidewa...</td>\n",
       "    </tr>\n",
       "    <tr>\n",
       "      <th>24998</th>\n",
       "      <td>8</td>\n",
       "      <td>I'm not sure what intrigues me about this movi...</td>\n",
       "    </tr>\n",
       "    <tr>\n",
       "      <th>24999</th>\n",
       "      <td>2</td>\n",
       "      <td>I was hoping that Pulp would be a interesting ...</td>\n",
       "    </tr>\n",
       "  </tbody>\n",
       "</table>\n",
       "<p>25000 rows × 2 columns</p>\n",
       "</div>"
      ],
      "text/plain": [
       "      Rating                                             Review\n",
       "0         10  The thing with Ali G is that he takes the mick...\n",
       "1          1  It was inferred by a previous poster that the ...\n",
       "2          4  This is defiantly a DVD rental movie. I'm a bi...\n",
       "3          8  This is a beautiful, funny, vivid film. It's e...\n",
       "4          3  The first twenty-five minutes stand out as pos...\n",
       "...      ...                                                ...\n",
       "24995      8  Last night, I saw A PECK ON THE CHEEK (KANNATH...\n",
       "24996     10  \"Müllers Büro\" is a movie which many will watc...\n",
       "24997      2  I've heard people compare this movie to Sidewa...\n",
       "24998      8  I'm not sure what intrigues me about this movi...\n",
       "24999      2  I was hoping that Pulp would be a interesting ...\n",
       "\n",
       "[25000 rows x 2 columns]"
      ]
     },
     "execution_count": 6,
     "metadata": {},
     "output_type": "execute_result"
    }
   ],
   "source": [
    "# Combining test data\n",
    "test_df = pd.concat([pos_test_df, neg_testdf])\n",
    "\n",
    "# Shuffling the test data\n",
    "test_df = test_df.sample(frac=1).reset_index(drop=True)\n",
    "test_df"
   ]
  },
  {
   "cell_type": "markdown",
   "metadata": {},
   "source": [
    "# Data Cleaning"
   ]
  },
  {
   "cell_type": "markdown",
   "metadata": {},
   "source": [
    "### Creating a function to clean the text\n",
    "1. Lowers the text\n",
    "2. Removes punctuations and alphanumeric words\n",
    "3. Removes stopwords eg: the, is, a etc\n",
    "4. Lematises the text\n",
    "5. remove one letter words`"
   ]
  },
  {
   "cell_type": "code",
   "execution_count": 8,
   "metadata": {},
   "outputs": [
    {
     "name": "stderr",
     "output_type": "stream",
     "text": [
      "[nltk_data] Downloading package stopwords to\n",
      "[nltk_data]     C:\\Users\\Hussain\\AppData\\Roaming\\nltk_data...\n",
      "[nltk_data]   Package stopwords is already up-to-date!\n",
      "[nltk_data] Downloading package averaged_perceptron_tagger to\n",
      "[nltk_data]     C:\\Users\\Hussain\\AppData\\Roaming\\nltk_data...\n",
      "[nltk_data]   Package averaged_perceptron_tagger is already up-to-\n",
      "[nltk_data]       date!\n",
      "[nltk_data] Downloading package wordnet to\n",
      "[nltk_data]     C:\\Users\\Hussain\\AppData\\Roaming\\nltk_data...\n",
      "[nltk_data]   Package wordnet is already up-to-date!\n"
     ]
    }
   ],
   "source": [
    "import string\n",
    "import nltk\n",
    "from nltk.corpus import stopwords\n",
    "nltk.download('stopwords')\n",
    "nltk.download('averaged_perceptron_tagger')\n",
    "nltk.download('wordnet')\n",
    "from nltk.corpus import wordnet\n",
    "from nltk import pos_tag\n",
    "from nltk.tokenize import WhitespaceTokenizer\n",
    "from nltk.stem import WordNetLemmatizer\n",
    "\n",
    "def get_wordnet_pos(pos_tag):\n",
    "    if pos_tag.startswith('J'):\n",
    "        return wordnet.ADJ\n",
    "    elif pos_tag.startswith('V'):\n",
    "        return wordnet.VERB\n",
    "    elif pos_tag.startswith('N'):\n",
    "        return wordnet.NOUN\n",
    "    elif pos_tag.startswith('R'):\n",
    "        return wordnet.ADV\n",
    "    else:\n",
    "        return wordnet.NOUN\n",
    "    \n",
    "def clean_text(text):\n",
    "    text = text.lower() # lower text\n",
    "\n",
    "    text = [word.strip(string.punctuation) for word in text.split(\" \")]     # tokenize text and remove puncutation\n",
    "\n",
    "    text = [word for word in text if not any(c.isdigit() for c in word)]     # remove words that contain numbers\n",
    "\n",
    "    stop = stopwords.words('english')\n",
    "    text = [x for x in text if x not in stop]     # remove stop words\n",
    "\n",
    "    text = [t for t in text if len(t) > 0]     # remove empty tokens\n",
    "\n",
    "    pos_tags = pos_tag(text)     # pos tag text\n",
    "\n",
    "    text = [WordNetLemmatizer().lemmatize(t[0], get_wordnet_pos(t[1])) for t in pos_tags]     # lemmatise text\n",
    "\n",
    "    text = [t for t in text if len(t) > 1]     # remove words with only one letter\n",
    "\n",
    "    text = \" \".join(text)     # join all\n",
    "    return(text)"
   ]
  },
  {
   "cell_type": "markdown",
   "metadata": {},
   "source": [
    "### Testing cleaning data"
   ]
  },
  {
   "cell_type": "code",
   "execution_count": 9,
   "metadata": {},
   "outputs": [
    {
     "name": "stdout",
     "output_type": "stream",
     "text": [
      "ORIGINAL TEXT:  This Film was done in really poor taste. The script was really bad. I feel really sad for the late Gregory Peck who took on the title role of this B-movie adaptation of one of history's greatest generals. The movie was politically incorrect and downright insensitive to the others who fought the Japanese in World War 2. There was a scene where I almost vomited, it showed Macarthur in a bunker in Corregidor island talking to the troops like a seasoned politician when he comes across a wounded, one legged Filipino soldier. The soldier bleeding and dying manages to sit up straight upon seeing the general and says : `no papa, no mama, no uncle sam' and Macarthur gives his little pep talk that Americans `would never abandon' the Philippines. The scene ends with the soldier being invigorated by Macarthur's words and gives him a smart salute. I mean if there was a more condescending scene portraying the U.S. as the great white savior of the world please tell me because this one takes the cake. It showed that Filipinos are damsels in distress incapable of honor and have to rely on the great Americans solely for redemption. It blatantly and purposely overshadowed the contributions of the members of the USAFFE (United States Armed Forces of The Far East), these are Filipino volunteers that were integrated in the US military during world war 2, who died side by side with the Americans fighting the Japanese, who walked side by side with Americans in the death march of Bataan and defended Corregidor island by launching a guerilla offensive after Macarthur left for Australia with his famous `I shall return' speech. My late grandfather, a Filipino world war 2 veteran and USAFFE soldier was one of the many who fought the Japanese with honor and love for the home country. I think this movie does not give honor to them and to the thousands of others that Macarthur relied on for intelligence preparations for his famous return in the Leyte gulf landing.\n",
      "\n",
      "CLEANED TEXT:  film do really poor taste script really bad feel really sad late gregory peck take title role b-movie adaptation one history's great general movie politically incorrect downright insensitive others fight japanese world war scene almost vomit show macarthur bunker corregidor island talk troop like seasoned politician come across wounded one legged filipino soldier soldier bleed die manages sit straight upon see general say papa mama uncle sam macarthur give little pep talk american would never abandon philippine scene end soldier invigorated macarthur's word give smart salute mean condescend scene portray u.s great white savior world please tell one take cake show filipinos damsel distress incapable honor rely great american solely redemption blatantly purposely overshadowed contribution member usaffe united state arm force far east filipino volunteer integrate military world war die side side american fight japanese walked side side american death march bataan defend corregidor island launch guerilla offensive macarthur leave australia famous shall return speech late grandfather filipino world war veteran usaffe soldier one many fight japanese honor love home country think movie give honor thousand others macarthur rely intelligence preparation famous return leyte gulf landing\n"
     ]
    }
   ],
   "source": [
    "text = train_df.Review[3]\n",
    "print(\"ORIGINAL TEXT: \",text)\n",
    "print()\n",
    "print(\"CLEANED TEXT: \",clean_text(text))"
   ]
  },
  {
   "cell_type": "code",
   "execution_count": 10,
   "metadata": {},
   "outputs": [
    {
     "name": "stdout",
     "output_type": "stream",
     "text": [
      "ORIGINAL TEXT:  I like movies about morally corrupt characters, but this was too much. The acting wasn't great, but that wasn't the real problem. The issue was the sinking feeling I got in the pit of my stomach about 20 minutes into the film. These characters were hollow. They had almost no depth, and what little they did have was devoted to the cruelty they displayed to each other in the guise of friendship. Exploring the darker sides of a set of characters can be fascinating, but you have to give those characters actual personalities or they are just cardboard cutouts. These characters were cardboard and the picture they gave was just ugly.\n",
      "\n",
      "CLEANED TEXT:  like movie morally corrupt character much act great real problem issue sink feel get pit stomach minute film character hollow almost depth little devote cruelty display guise friendship explore darker side set character fascinate give character actual personality cardboard cutouts character cardboard picture give ugly\n"
     ]
    }
   ],
   "source": [
    "text = train_df.Review[15]\n",
    "print(\"ORIGINAL TEXT: \",text)\n",
    "print()\n",
    "print(\"CLEANED TEXT: \",clean_text(text))"
   ]
  },
  {
   "cell_type": "markdown",
   "metadata": {},
   "source": [
    "### Cleaning all the train and test text"
   ]
  },
  {
   "cell_type": "code",
   "execution_count": 11,
   "metadata": {},
   "outputs": [],
   "source": [
    "train_df[\"Review\"] = train_df[\"Review\"].apply(clean_text)"
   ]
  },
  {
   "cell_type": "code",
   "execution_count": 12,
   "metadata": {},
   "outputs": [
    {
     "data": {
      "text/html": [
       "<div>\n",
       "<style scoped>\n",
       "    .dataframe tbody tr th:only-of-type {\n",
       "        vertical-align: middle;\n",
       "    }\n",
       "\n",
       "    .dataframe tbody tr th {\n",
       "        vertical-align: top;\n",
       "    }\n",
       "\n",
       "    .dataframe thead th {\n",
       "        text-align: right;\n",
       "    }\n",
       "</style>\n",
       "<table border=\"1\" class=\"dataframe\">\n",
       "  <thead>\n",
       "    <tr style=\"text-align: right;\">\n",
       "      <th></th>\n",
       "      <th>Rating</th>\n",
       "      <th>Review</th>\n",
       "    </tr>\n",
       "  </thead>\n",
       "  <tbody>\n",
       "    <tr>\n",
       "      <th>0</th>\n",
       "      <td>4</td>\n",
       "      <td>movie disappointing incomplete dull alec baldw...</td>\n",
       "    </tr>\n",
       "    <tr>\n",
       "      <th>1</th>\n",
       "      <td>10</td>\n",
       "      <td>late flip cable channel one night run movie mi...</td>\n",
       "    </tr>\n",
       "    <tr>\n",
       "      <th>2</th>\n",
       "      <td>9</td>\n",
       "      <td>starter funny movie crazy character run around...</td>\n",
       "    </tr>\n",
       "    <tr>\n",
       "      <th>3</th>\n",
       "      <td>1</td>\n",
       "      <td>film do really poor taste script really bad fe...</td>\n",
       "    </tr>\n",
       "    <tr>\n",
       "      <th>4</th>\n",
       "      <td>7</td>\n",
       "      <td>simon pegg play rude crude often control celeb...</td>\n",
       "    </tr>\n",
       "    <tr>\n",
       "      <th>...</th>\n",
       "      <td>...</td>\n",
       "      <td>...</td>\n",
       "    </tr>\n",
       "    <tr>\n",
       "      <th>24995</th>\n",
       "      <td>2</td>\n",
       "      <td>absolutely putrid slasher film one redeeming q...</td>\n",
       "    </tr>\n",
       "    <tr>\n",
       "      <th>24996</th>\n",
       "      <td>9</td>\n",
       "      <td>notice star i've give great film see first tim...</td>\n",
       "    </tr>\n",
       "    <tr>\n",
       "      <th>24997</th>\n",
       "      <td>1</td>\n",
       "      <td>saw chan miss first come four year move san fr...</td>\n",
       "    </tr>\n",
       "    <tr>\n",
       "      <th>24998</th>\n",
       "      <td>4</td>\n",
       "      <td>direct-to-video death rattle tremor series fea...</td>\n",
       "    </tr>\n",
       "    <tr>\n",
       "      <th>24999</th>\n",
       "      <td>1</td>\n",
       "      <td>think piece garbage best proof good idea destr...</td>\n",
       "    </tr>\n",
       "  </tbody>\n",
       "</table>\n",
       "<p>25000 rows × 2 columns</p>\n",
       "</div>"
      ],
      "text/plain": [
       "      Rating                                             Review\n",
       "0          4  movie disappointing incomplete dull alec baldw...\n",
       "1         10  late flip cable channel one night run movie mi...\n",
       "2          9  starter funny movie crazy character run around...\n",
       "3          1  film do really poor taste script really bad fe...\n",
       "4          7  simon pegg play rude crude often control celeb...\n",
       "...      ...                                                ...\n",
       "24995      2  absolutely putrid slasher film one redeeming q...\n",
       "24996      9  notice star i've give great film see first tim...\n",
       "24997      1  saw chan miss first come four year move san fr...\n",
       "24998      4  direct-to-video death rattle tremor series fea...\n",
       "24999      1  think piece garbage best proof good idea destr...\n",
       "\n",
       "[25000 rows x 2 columns]"
      ]
     },
     "execution_count": 12,
     "metadata": {},
     "output_type": "execute_result"
    }
   ],
   "source": [
    "train_df"
   ]
  },
  {
   "cell_type": "code",
   "execution_count": 13,
   "metadata": {},
   "outputs": [],
   "source": [
    "test_df[\"Review\"] = test_df[\"Review\"].apply(clean_text)"
   ]
  },
  {
   "cell_type": "code",
   "execution_count": 14,
   "metadata": {},
   "outputs": [
    {
     "data": {
      "text/html": [
       "<div>\n",
       "<style scoped>\n",
       "    .dataframe tbody tr th:only-of-type {\n",
       "        vertical-align: middle;\n",
       "    }\n",
       "\n",
       "    .dataframe tbody tr th {\n",
       "        vertical-align: top;\n",
       "    }\n",
       "\n",
       "    .dataframe thead th {\n",
       "        text-align: right;\n",
       "    }\n",
       "</style>\n",
       "<table border=\"1\" class=\"dataframe\">\n",
       "  <thead>\n",
       "    <tr style=\"text-align: right;\">\n",
       "      <th></th>\n",
       "      <th>Rating</th>\n",
       "      <th>Review</th>\n",
       "    </tr>\n",
       "  </thead>\n",
       "  <tbody>\n",
       "    <tr>\n",
       "      <th>0</th>\n",
       "      <td>10</td>\n",
       "      <td>thing ali take mick character br br humour muc...</td>\n",
       "    </tr>\n",
       "    <tr>\n",
       "      <th>1</th>\n",
       "      <td>1</td>\n",
       "      <td>infer previous poster military would subordina...</td>\n",
       "    </tr>\n",
       "    <tr>\n",
       "      <th>2</th>\n",
       "      <td>4</td>\n",
       "      <td>defiantly dvd rental movie i'm big fan cast me...</td>\n",
       "    </tr>\n",
       "    <tr>\n",
       "      <th>3</th>\n",
       "      <td>8</td>\n",
       "      <td>beautiful funny vivid film even well nuovo cin...</td>\n",
       "    </tr>\n",
       "    <tr>\n",
       "      <th>4</th>\n",
       "      <td>3</td>\n",
       "      <td>first twenty-five minute stand possibly worst ...</td>\n",
       "    </tr>\n",
       "    <tr>\n",
       "      <th>...</th>\n",
       "      <td>...</td>\n",
       "      <td>...</td>\n",
       "    </tr>\n",
       "    <tr>\n",
       "      <th>24995</th>\n",
       "      <td>8</td>\n",
       "      <td>last night saw peck cheek kannathil muthamitta...</td>\n",
       "    </tr>\n",
       "    <tr>\n",
       "      <th>24996</th>\n",
       "      <td>10</td>\n",
       "      <td>müllers büro movie many watch enjoy end others...</td>\n",
       "    </tr>\n",
       "    <tr>\n",
       "      <th>24997</th>\n",
       "      <td>2</td>\n",
       "      <td>i've heard people compare movie sideways compa...</td>\n",
       "    </tr>\n",
       "    <tr>\n",
       "      <th>24998</th>\n",
       "      <td>8</td>\n",
       "      <td>i'm sure intrigue movie grainy poorly write bl...</td>\n",
       "    </tr>\n",
       "    <tr>\n",
       "      <th>24999</th>\n",
       "      <td>2</td>\n",
       "      <td>hop pulp would interest movie profoundly disap...</td>\n",
       "    </tr>\n",
       "  </tbody>\n",
       "</table>\n",
       "<p>25000 rows × 2 columns</p>\n",
       "</div>"
      ],
      "text/plain": [
       "      Rating                                             Review\n",
       "0         10  thing ali take mick character br br humour muc...\n",
       "1          1  infer previous poster military would subordina...\n",
       "2          4  defiantly dvd rental movie i'm big fan cast me...\n",
       "3          8  beautiful funny vivid film even well nuovo cin...\n",
       "4          3  first twenty-five minute stand possibly worst ...\n",
       "...      ...                                                ...\n",
       "24995      8  last night saw peck cheek kannathil muthamitta...\n",
       "24996     10  müllers büro movie many watch enjoy end others...\n",
       "24997      2  i've heard people compare movie sideways compa...\n",
       "24998      8  i'm sure intrigue movie grainy poorly write bl...\n",
       "24999      2  hop pulp would interest movie profoundly disap...\n",
       "\n",
       "[25000 rows x 2 columns]"
      ]
     },
     "execution_count": 14,
     "metadata": {},
     "output_type": "execute_result"
    }
   ],
   "source": [
    "test_df"
   ]
  },
  {
   "cell_type": "markdown",
   "metadata": {},
   "source": [
    "### Combining data"
   ]
  },
  {
   "cell_type": "code",
   "execution_count": 15,
   "metadata": {},
   "outputs": [],
   "source": [
    "reviews_df = pd.concat([train_df, test_df])"
   ]
  },
  {
   "cell_type": "code",
   "execution_count": 16,
   "metadata": {},
   "outputs": [
    {
     "data": {
      "text/html": [
       "<div>\n",
       "<style scoped>\n",
       "    .dataframe tbody tr th:only-of-type {\n",
       "        vertical-align: middle;\n",
       "    }\n",
       "\n",
       "    .dataframe tbody tr th {\n",
       "        vertical-align: top;\n",
       "    }\n",
       "\n",
       "    .dataframe thead th {\n",
       "        text-align: right;\n",
       "    }\n",
       "</style>\n",
       "<table border=\"1\" class=\"dataframe\">\n",
       "  <thead>\n",
       "    <tr style=\"text-align: right;\">\n",
       "      <th></th>\n",
       "      <th>Rating</th>\n",
       "      <th>Review</th>\n",
       "    </tr>\n",
       "  </thead>\n",
       "  <tbody>\n",
       "    <tr>\n",
       "      <th>0</th>\n",
       "      <td>4</td>\n",
       "      <td>movie disappointing incomplete dull alec baldw...</td>\n",
       "    </tr>\n",
       "    <tr>\n",
       "      <th>1</th>\n",
       "      <td>10</td>\n",
       "      <td>late flip cable channel one night run movie mi...</td>\n",
       "    </tr>\n",
       "    <tr>\n",
       "      <th>2</th>\n",
       "      <td>9</td>\n",
       "      <td>starter funny movie crazy character run around...</td>\n",
       "    </tr>\n",
       "    <tr>\n",
       "      <th>3</th>\n",
       "      <td>1</td>\n",
       "      <td>film do really poor taste script really bad fe...</td>\n",
       "    </tr>\n",
       "    <tr>\n",
       "      <th>4</th>\n",
       "      <td>7</td>\n",
       "      <td>simon pegg play rude crude often control celeb...</td>\n",
       "    </tr>\n",
       "    <tr>\n",
       "      <th>...</th>\n",
       "      <td>...</td>\n",
       "      <td>...</td>\n",
       "    </tr>\n",
       "    <tr>\n",
       "      <th>24995</th>\n",
       "      <td>8</td>\n",
       "      <td>last night saw peck cheek kannathil muthamitta...</td>\n",
       "    </tr>\n",
       "    <tr>\n",
       "      <th>24996</th>\n",
       "      <td>10</td>\n",
       "      <td>müllers büro movie many watch enjoy end others...</td>\n",
       "    </tr>\n",
       "    <tr>\n",
       "      <th>24997</th>\n",
       "      <td>2</td>\n",
       "      <td>i've heard people compare movie sideways compa...</td>\n",
       "    </tr>\n",
       "    <tr>\n",
       "      <th>24998</th>\n",
       "      <td>8</td>\n",
       "      <td>i'm sure intrigue movie grainy poorly write bl...</td>\n",
       "    </tr>\n",
       "    <tr>\n",
       "      <th>24999</th>\n",
       "      <td>2</td>\n",
       "      <td>hop pulp would interest movie profoundly disap...</td>\n",
       "    </tr>\n",
       "  </tbody>\n",
       "</table>\n",
       "<p>50000 rows × 2 columns</p>\n",
       "</div>"
      ],
      "text/plain": [
       "      Rating                                             Review\n",
       "0          4  movie disappointing incomplete dull alec baldw...\n",
       "1         10  late flip cable channel one night run movie mi...\n",
       "2          9  starter funny movie crazy character run around...\n",
       "3          1  film do really poor taste script really bad fe...\n",
       "4          7  simon pegg play rude crude often control celeb...\n",
       "...      ...                                                ...\n",
       "24995      8  last night saw peck cheek kannathil muthamitta...\n",
       "24996     10  müllers büro movie many watch enjoy end others...\n",
       "24997      2  i've heard people compare movie sideways compa...\n",
       "24998      8  i'm sure intrigue movie grainy poorly write bl...\n",
       "24999      2  hop pulp would interest movie profoundly disap...\n",
       "\n",
       "[50000 rows x 2 columns]"
      ]
     },
     "execution_count": 16,
     "metadata": {},
     "output_type": "execute_result"
    }
   ],
   "source": [
    "reviews_df"
   ]
  },
  {
   "cell_type": "markdown",
   "metadata": {},
   "source": [
    "Converting object to integer data type"
   ]
  },
  {
   "cell_type": "code",
   "execution_count": 17,
   "metadata": {},
   "outputs": [],
   "source": [
    "reviews_df[\"Rating\"] = reviews_df[\"Rating\"].astype(int)"
   ]
  },
  {
   "cell_type": "markdown",
   "metadata": {},
   "source": [
    "Lets use the extreme ends (Rating of 1 and 10)"
   ]
  },
  {
   "cell_type": "code",
   "execution_count": 18,
   "metadata": {},
   "outputs": [],
   "source": [
    "reviews_df = reviews_df[(reviews_df['Rating'] == 1) | (reviews_df['Rating'] == 10)]"
   ]
  },
  {
   "cell_type": "code",
   "execution_count": 19,
   "metadata": {},
   "outputs": [
    {
     "data": {
      "text/html": [
       "<div>\n",
       "<style scoped>\n",
       "    .dataframe tbody tr th:only-of-type {\n",
       "        vertical-align: middle;\n",
       "    }\n",
       "\n",
       "    .dataframe tbody tr th {\n",
       "        vertical-align: top;\n",
       "    }\n",
       "\n",
       "    .dataframe thead th {\n",
       "        text-align: right;\n",
       "    }\n",
       "</style>\n",
       "<table border=\"1\" class=\"dataframe\">\n",
       "  <thead>\n",
       "    <tr style=\"text-align: right;\">\n",
       "      <th></th>\n",
       "      <th>Rating</th>\n",
       "      <th>Review</th>\n",
       "    </tr>\n",
       "  </thead>\n",
       "  <tbody>\n",
       "    <tr>\n",
       "      <th>1</th>\n",
       "      <td>10</td>\n",
       "      <td>late flip cable channel one night run movie mi...</td>\n",
       "    </tr>\n",
       "    <tr>\n",
       "      <th>3</th>\n",
       "      <td>1</td>\n",
       "      <td>film do really poor taste script really bad fe...</td>\n",
       "    </tr>\n",
       "    <tr>\n",
       "      <th>5</th>\n",
       "      <td>10</td>\n",
       "      <td>one would see rené clair film kind distract se...</td>\n",
       "    </tr>\n",
       "    <tr>\n",
       "      <th>11</th>\n",
       "      <td>10</td>\n",
       "      <td>movie awesome sort dosent really say much much...</td>\n",
       "    </tr>\n",
       "    <tr>\n",
       "      <th>13</th>\n",
       "      <td>10</td>\n",
       "      <td>watched movie showtime quite accident actually...</td>\n",
       "    </tr>\n",
       "  </tbody>\n",
       "</table>\n",
       "</div>"
      ],
      "text/plain": [
       "    Rating                                             Review\n",
       "1       10  late flip cable channel one night run movie mi...\n",
       "3        1  film do really poor taste script really bad fe...\n",
       "5       10  one would see rené clair film kind distract se...\n",
       "11      10  movie awesome sort dosent really say much much...\n",
       "13      10  watched movie showtime quite accident actually..."
      ]
     },
     "execution_count": 19,
     "metadata": {},
     "output_type": "execute_result"
    }
   ],
   "source": [
    "reviews_df.head()"
   ]
  },
  {
   "cell_type": "markdown",
   "metadata": {},
   "source": [
    "### Getting our data ready"
   ]
  },
  {
   "cell_type": "code",
   "execution_count": 20,
   "metadata": {},
   "outputs": [],
   "source": [
    "# Shuffling the data\n",
    "reviews_df = reviews_df.sample(frac=1).reset_index(drop=True)"
   ]
  },
  {
   "cell_type": "code",
   "execution_count": 21,
   "metadata": {},
   "outputs": [],
   "source": [
    "X = reviews_df[\"Review\"]\n",
    "y = reviews_df[\"Rating\"]"
   ]
  },
  {
   "cell_type": "markdown",
   "metadata": {},
   "source": [
    "### Vectorize the text"
   ]
  },
  {
   "cell_type": "code",
   "execution_count": 22,
   "metadata": {},
   "outputs": [],
   "source": [
    "from sklearn.feature_extraction.text import CountVectorizer\n",
    "x_train_matrix = CountVectorizer().fit(X)\n",
    "X = x_train_matrix.fit_transform(X)"
   ]
  },
  {
   "cell_type": "code",
   "execution_count": 23,
   "metadata": {},
   "outputs": [],
   "source": [
    "# Splitting our data\n",
    "from sklearn.model_selection import train_test_split\n",
    "\n",
    "X_train, X_test, y_train, y_test = train_test_split(X, y, test_size=0.2)"
   ]
  },
  {
   "cell_type": "code",
   "execution_count": 24,
   "metadata": {},
   "outputs": [
    {
     "data": {
      "text/plain": [
       "<15882x57098 sparse matrix of type '<class 'numpy.int64'>'\n",
       "\twith 1345361 stored elements in Compressed Sparse Row format>"
      ]
     },
     "execution_count": 24,
     "metadata": {},
     "output_type": "execute_result"
    }
   ],
   "source": [
    "X_train"
   ]
  },
  {
   "cell_type": "markdown",
   "metadata": {},
   "source": [
    "### Using the naive bayes classification to train the data"
   ]
  },
  {
   "cell_type": "code",
   "execution_count": 25,
   "metadata": {},
   "outputs": [
    {
     "name": "stdout",
     "output_type": "stream",
     "text": [
      "Time taken to train the model: 1.3 seconds\n"
     ]
    }
   ],
   "source": [
    "import time\n",
    "from sklearn.naive_bayes import MultinomialNB\n",
    "nb = MultinomialNB()\n",
    "start = time.time()\n",
    "nb.fit(X_train, y_train)\n",
    "end = time.time()\n",
    "print(\"Time taken to train the model: {:.3g} seconds\".format( (end-start)* 100) )"
   ]
  },
  {
   "cell_type": "markdown",
   "metadata": {},
   "source": [
    "### Evaluate our data"
   ]
  },
  {
   "cell_type": "code",
   "execution_count": 26,
   "metadata": {},
   "outputs": [
    {
     "data": {
      "text/plain": [
       "0.9088390833543188"
      ]
     },
     "execution_count": 26,
     "metadata": {},
     "output_type": "execute_result"
    }
   ],
   "source": [
    "nb.score(X_test,y_test)"
   ]
  },
  {
   "cell_type": "code",
   "execution_count": 27,
   "metadata": {},
   "outputs": [
    {
     "name": "stdout",
     "output_type": "stream",
     "text": [
      "              precision    recall  f1-score   support\n",
      "\n",
      "           1       0.89      0.94      0.91      2059\n",
      "          10       0.93      0.88      0.90      1912\n",
      "\n",
      "    accuracy                           0.91      3971\n",
      "   macro avg       0.91      0.91      0.91      3971\n",
      "weighted avg       0.91      0.91      0.91      3971\n",
      "\n"
     ]
    }
   ],
   "source": [
    "from sklearn.metrics import classification_report\n",
    "print(classification_report(y_test, nb.predict(X_test)))"
   ]
  },
  {
   "cell_type": "markdown",
   "metadata": {},
   "source": [
    "### Saving our model"
   ]
  },
  {
   "cell_type": "code",
   "execution_count": 29,
   "metadata": {},
   "outputs": [],
   "source": [
    "# 6. Save a model and load it\n",
    "import pickle\n",
    "pickle.dump(nb, open(\"models/rating_predictor.pkl\", \"wb\"))"
   ]
  },
  {
   "cell_type": "code",
   "execution_count": 30,
   "metadata": {},
   "outputs": [],
   "source": [
    "import pickle\n",
    "def rating_predictor(datapath):\n",
    "    loaded_model = pickle.load(open(datapath, \"rb\"))\n",
    "    text = input(\"Enter your review: \")\n",
    "    start = time.time()\n",
    "    predicted_rating = loaded_model.predict(x_train_matrix.transform([text]))[0]\n",
    "    end = time.time()\n",
    "    if predicted_rating == 1:\n",
    "        print(\"\\nYour review is : Negative\")\n",
    "    else:\n",
    "        print(\"\\nYour review is : Positive\")\n",
    "    print(\"\\nTime taken to predict: {:.3g}\".format( (end-start)*100 ) )"
   ]
  },
  {
   "cell_type": "markdown",
   "metadata": {},
   "source": [
    "### Testing our model"
   ]
  },
  {
   "cell_type": "code",
   "execution_count": 31,
   "metadata": {},
   "outputs": [
    {
     "name": "stdout",
     "output_type": "stream",
     "text": [
      "Enter your review: This movie is quite long\n",
      "\n",
      "Your review is : Negative\n",
      "\n",
      "Time taken to predict: 0.199\n"
     ]
    }
   ],
   "source": [
    "rating_predictor(\"models/rating_predictor.pkl\")"
   ]
  },
  {
   "cell_type": "code",
   "execution_count": 32,
   "metadata": {},
   "outputs": [
    {
     "name": "stdout",
     "output_type": "stream",
     "text": [
      "Enter your review: Sputters to the finish line with its disjointed pacing, it's a damn good time with some dazzling fight scenes, dark humor, and a banner turn by Robbie.\n",
      "\n",
      "Your review is : Negative\n",
      "\n",
      "Time taken to predict: 0\n"
     ]
    }
   ],
   "source": [
    "rating_predictor(\"models/rating_predictor.pkl\")"
   ]
  },
  {
   "cell_type": "code",
   "execution_count": null,
   "metadata": {},
   "outputs": [],
   "source": [
    "rating_predictor(\"models/rating_predictor.pkl\")"
   ]
  },
  {
   "cell_type": "code",
   "execution_count": null,
   "metadata": {},
   "outputs": [],
   "source": []
  }
 ],
 "metadata": {
  "kernelspec": {
   "display_name": "Python 3",
   "language": "python",
   "name": "python3"
  },
  "language_info": {
   "codemirror_mode": {
    "name": "ipython",
    "version": 3
   },
   "file_extension": ".py",
   "mimetype": "text/x-python",
   "name": "python",
   "nbconvert_exporter": "python",
   "pygments_lexer": "ipython3",
   "version": "3.8.2"
  }
 },
 "nbformat": 4,
 "nbformat_minor": 4
}
